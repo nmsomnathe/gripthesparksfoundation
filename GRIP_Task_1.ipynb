{
  "nbformat": 4,
  "nbformat_minor": 0,
  "metadata": {
    "colab": {
      "name": "Untitled1.ipynb",
      "provenance": [],
      "authorship_tag": "ABX9TyPMJbqEuIEatWAqXUWxKurl",
      "include_colab_link": true
    },
    "kernelspec": {
      "name": "python3",
      "display_name": "Python 3"
    }
  },
  "cells": [
    {
      "cell_type": "markdown",
      "metadata": {
        "id": "view-in-github",
        "colab_type": "text"
      },
      "source": [
        "<a href=\"https://colab.research.google.com/github/nmsomnathe/gripthesparksfoundation/blob/main/GRIP_Task_1.ipynb\" target=\"_parent\"><img src=\"https://colab.research.google.com/assets/colab-badge.svg\" alt=\"Open In Colab\"/></a>"
      ]
    },
    {
      "cell_type": "code",
      "metadata": {
        "id": "gG6KAdf9qkdp"
      },
      "source": [
        "Name: Ashwin Arun\r\n",
        "The Sparks Foundation: Graduate Rotational Internship Program\r\n",
        "Data Science and Business Analytics Intern\r\n",
        "TASK 1: Prediction using Supervised ML\r\n",
        "Problem Statement: Predict the percentage score of a student based on the no. of study hours.\r\n",
        "Importing necessary libraries"
      ],
      "execution_count": null,
      "outputs": []
    },
    {
      "cell_type": "code",
      "metadata": {
        "id": "Ik2wxyOfqvur"
      },
      "source": [
        "import pandas as pd\r\n",
        "import numpy as np  \r\n",
        "import seaborn as sns\r\n",
        "import matplotlib.pyplot as plt  \r\n",
        "%matplotlib inline"
      ],
      "execution_count": null,
      "outputs": []
    },
    {
      "cell_type": "code",
      "metadata": {
        "id": "Eu7If3sAq_r8"
      },
      "source": [
        "#To import the data:\r\n",
        "url = \"http://bit.ly/w-data\"\r\n",
        "data = pd.read_csv(url)\r\n",
        "data.dropna(inplace=True)  #To drop empty rows\r\n",
        "data.head(5) #Displaying a sample of data"
      ],
      "execution_count": null,
      "outputs": []
    },
    {
      "cell_type": "code",
      "metadata": {
        "id": "OrRBkFZBrWr8"
      },
      "source": [
        "#Observing the relationship between no of hours studied and score percentage using correlation\r\n",
        "correlation_matrix = data.corr()\r\n",
        "correlation_matrix\r\n",
        "sns.heatmap(data=correlation_matrix, cmap=\"Blues\", annot=True)\r\n",
        "plt.show()"
      ],
      "execution_count": null,
      "outputs": []
    },
    {
      "cell_type": "code",
      "metadata": {
        "id": "7qSljPvKrh1j"
      },
      "source": [
        "# Plotting\r\n",
        "data.plot(x='Hours', y='Scores', style='x')  \r\n",
        "plt.title('Hours vs Percentage')  \r\n",
        "plt.xlabel('Hours Studied')  \r\n",
        "plt.ylabel('Percentage Score')  \r\n",
        "plt.show()"
      ],
      "execution_count": null,
      "outputs": []
    },
    {
      "cell_type": "code",
      "metadata": {
        "id": "cJ28h0-nrsAS"
      },
      "source": [
        "X = data.iloc[:, :-1].values  \r\n",
        "y = data.iloc[:, 1].values\r\n",
        "\r\n",
        "#Splitting the dataset for training and testing of model\r\n",
        "from sklearn.model_selection import train_test_split  \r\n",
        "X_train, X_test, y_train, y_test = train_test_split(X, y, test_size=0.2, random_state=0)\r\n",
        "\r\n",
        "#Training the algorithm\r\n",
        "from sklearn.linear_model import LinearRegression  \r\n",
        "regressor = LinearRegression()  \r\n",
        "regressor.fit(X_train, y_train) \r\n",
        "\r\n",
        "# Plotting the regression line\r\n",
        "regline = regressor.coef_*X+regressor.intercept_\r\n",
        "\r\n",
        "# Plotting for the test data\r\n",
        "plt.figure(figsize=(9,7))\r\n",
        "plt.scatter(X, y)\r\n",
        "plt.plot(X, regline);\r\n",
        "plt.title(\"Regression Line\")\r\n",
        "plt.xlabel('Hours Studied')  \r\n",
        "plt.ylabel('Score') \r\n",
        "plt.show()"
      ],
      "execution_count": null,
      "outputs": []
    },
    {
      "cell_type": "code",
      "metadata": {
        "id": "0xvaVJu3rzLd"
      },
      "source": [
        "#Using model to make predictions\r\n",
        "y_pred = regressor.predict(X_test)\r\n",
        "\r\n",
        "df = pd.DataFrame({'Actual Scores': y_test, 'Predicted Scores': y_pred})  \r\n",
        "df\r\n"
      ],
      "execution_count": null,
      "outputs": []
    },
    {
      "cell_type": "code",
      "metadata": {
        "id": "xStGJmoyr80a"
      },
      "source": [
        "hour = 9.25 #Provided Value\r\n",
        "h = np.array(hour) # convert to a numpy array\r\n",
        "h= h.reshape(1, -1)\r\n",
        "prediction = regressor.predict(h)\r\n",
        "print(\"Number of Hours = {}\".format(hour))\r\n",
        "print(\"Predicted Score = {}\".format(prediction[0]))"
      ],
      "execution_count": null,
      "outputs": []
    },
    {
      "cell_type": "code",
      "metadata": {
        "id": "FbzknbWhsBfF"
      },
      "source": [
        "# MODEL EVALUATION\r\n",
        "from sklearn.metrics import mean_squared_error,r2_score,mean_absolute_error\r\n",
        "\r\n",
        "mse = (mean_absolute_error(y_test, y_pred))\r\n",
        "print(\"Mean Absolute Error:\",mse)\r\n",
        "\r\n",
        "rmse = (np.sqrt(mean_squared_error(y_test, y_pred)))\r\n",
        "print(\"Root Mean Square Error:\",rmse)\r\n",
        "\r\n",
        "# To find coefficient of determination\r\n",
        "r2 =  r2_score(y_test, y_pred)\r\n",
        "print(\"R-Square:\",r2)"
      ],
      "execution_count": null,
      "outputs": []
    }
  ]
}